{
  "nbformat": 4,
  "nbformat_minor": 0,
  "metadata": {
    "colab": {
      "provenance": [],
      "authorship_tag": "ABX9TyNY2unfqNFdpIlmWSkLBGXs",
      "include_colab_link": true
    },
    "kernelspec": {
      "name": "python3",
      "display_name": "Python 3"
    },
    "language_info": {
      "name": "python"
    }
  },
  "cells": [
    {
      "cell_type": "markdown",
      "metadata": {
        "id": "view-in-github",
        "colab_type": "text"
      },
      "source": [
        "<a href=\"https://colab.research.google.com/github/Tahia20/Edge/blob/main/Edge_2.ipynb\" target=\"_parent\"><img src=\"https://colab.research.google.com/assets/colab-badge.svg\" alt=\"Open In Colab\"/></a>"
      ]
    },
    {
      "cell_type": "code",
      "execution_count": 4,
      "metadata": {
        "colab": {
          "base_uri": "https://localhost:8080/"
        },
        "id": "mh4W28S2I5cH",
        "outputId": "f1564039-8315-46e6-9bc6-7c6b0c9e113e"
      },
      "outputs": [
        {
          "output_type": "stream",
          "name": "stdout",
          "text": [
            "Enter name:\n",
            "tuba\n",
            "Enter roll: \n",
            "04\n",
            "Enter marks:\n",
            "Physics: \n",
            "80\n",
            "Chemistry: \n",
            "90\n",
            "Math:\n",
            "100\n",
            "Student name: tuba\n",
            "Roll: 4\n",
            "Total number: 270.\n",
            "Average marks: 90.0\n",
            "Grade: A+ \n"
          ]
        }
      ],
      "source": [
        "class Student:\n",
        "    def __init__(self,name,roll,math,physics,chemistry):\n",
        "        self.name=name\n",
        "        self.roll=roll\n",
        "        self.math=math\n",
        "        self.physics=physics\n",
        "        self.chemistry=chemistry\n",
        "    def calculate_total(self):\n",
        "        self.total=self.math+self.physics+self.chemistry\n",
        "    def calculate_avg(self):\n",
        "        self.avg=self.total/3\n",
        "        if self.avg>=90:\n",
        "            self.grade=\"A+\"\n",
        "        elif self.avg>=80:\n",
        "            self.grade=\"A\"\n",
        "        elif self.avg>=70:\n",
        "           self.grade=\"B\"\n",
        "        elif self.avg>=60:\n",
        "            self.grade=\"C\"\n",
        "        else:\n",
        "            self.grade=\"Fail\"\n",
        "\n",
        "\n",
        "\n",
        "print(\"Enter name:\")\n",
        "name=input()\n",
        "print(\"Enter roll: \")\n",
        "roll=int(input())\n",
        "print(\"Enter marks:\")\n",
        "try:\n",
        "    print(\"Physics: \")\n",
        "    phy=int(input())\n",
        "    if phy < 0:\n",
        "                raise ValueError\n",
        "    print(\"Chemistry: \" )\n",
        "    chem=int(input())\n",
        "    if chem < 0:\n",
        "                raise ValueError\n",
        "    print(\"Math:\")\n",
        "    math=int(input())\n",
        "    if math < 0:\n",
        "                raise ValueError\n",
        "except ValueError:\n",
        "        print(\"Invalid input! \")\n",
        "\n",
        "\n",
        "\n",
        "stu1=Student(name,roll,math,phy,chem)\n",
        "stu1.calculate_total()\n",
        "stu1.calculate_avg()\n",
        "print(f\"Student name: {stu1.name}\\nRoll: {stu1.roll}\\nTotal number: {stu1.total}.\\nAverage marks: {stu1.avg}\\nGrade: {stu1.grade} \")"
      ]
    }
  ]
}