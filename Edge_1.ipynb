{
  "nbformat": 4,
  "nbformat_minor": 0,
  "metadata": {
    "colab": {
      "provenance": [],
      "authorship_tag": "ABX9TyNNDnW0mnFk+NJbXtKQhIrw",
      "include_colab_link": true
    },
    "kernelspec": {
      "name": "python3",
      "display_name": "Python 3"
    },
    "language_info": {
      "name": "python"
    }
  },
  "cells": [
    {
      "cell_type": "markdown",
      "metadata": {
        "id": "view-in-github",
        "colab_type": "text"
      },
      "source": [
        "<a href=\"https://colab.research.google.com/github/Tahia20/Edge/blob/main/Edge_1.ipynb\" target=\"_parent\"><img src=\"https://colab.research.google.com/assets/colab-badge.svg\" alt=\"Open In Colab\"/></a>"
      ]
    },
    {
      "cell_type": "code",
      "execution_count": 1,
      "metadata": {
        "colab": {
          "base_uri": "https://localhost:8080/"
        },
        "id": "yMkYWmCLDU99",
        "outputId": "52718624-4779-4e56-f6c2-98444836e93d"
      },
      "outputs": [
        {
          "output_type": "stream",
          "name": "stdout",
          "text": [
            "Enter a positive integer: -6\n",
            "Invalid number. please type a positive integer \n",
            "Enter a positive integer: 5\n",
            "ODD\n"
          ]
        }
      ],
      "source": [
        "while True:\n",
        "    try:\n",
        "        num = int(input(\"Enter a positive integer: \"))\n",
        "        if(num<0):\n",
        "                print(\"Invalid number. please type a positive integer \")\n",
        "        else:\n",
        "            if num%2==0:\n",
        "               print(\"EVEN\")\n",
        "            else:\n",
        "                print(\"ODD\")\n",
        "            break\n",
        "    except ValueError:\n",
        "        print(\"Invalid input! Enter a number.\")"
      ]
    }
  ]
}